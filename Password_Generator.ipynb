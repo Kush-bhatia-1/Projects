{
  "nbformat": 4,
  "nbformat_minor": 0,
  "metadata": {
    "colab": {
      "provenance": []
    },
    "kernelspec": {
      "name": "python3",
      "display_name": "Python 3"
    },
    "language_info": {
      "name": "python"
    }
  },
  "cells": [
    {
      "cell_type": "code",
      "execution_count": null,
      "metadata": {
        "colab": {
          "base_uri": "https://localhost:8080/"
        },
        "id": "02t8uSz3O0dU",
        "outputId": "9628128f-96df-420b-ba9e-ba3d9f4e9a6d"
      },
      "outputs": [
        {
          "output_type": "stream",
          "name": "stdout",
          "text": [
            "This password has 6 letters, 3 numbers, and 1 symbols: 5O7*owa8Js\n",
            "This password has 6 letters, 3 numbers, and 1 symbols: V(89K2IOhq\n",
            "This password has 6 letters, 4 numbers, and 0 symbols: 4Qo4l7N9yW\n",
            "This password has 5 letters, 1 numbers, and 4 symbols: 3$)$t)xPON\n",
            "This password has 6 letters, 2 numbers, and 2 symbols: $#B2NBwq0A\n",
            "This password has 6 letters, 3 numbers, and 1 symbols: GWW5y$n10N\n",
            "This password has 4 letters, 2 numbers, and 4 symbols: Li%)+V$72F\n",
            "This password has 3 letters, 2 numbers, and 5 symbols: XwK5&*0))&\n",
            "This password has 6 letters, 2 numbers, and 2 symbols: FWp$J1yk*2\n",
            "This password has 5 letters, 2 numbers, and 3 symbols: &9(#9MvHzf\n"
          ]
        }
      ],
      "source": [
        "import random\n",
        "letters = ['a', 'b', 'c', 'd', 'e', 'f', 'g', 'h', 'i', 'j', 'k', 'l', 'm', 'n', 'o', 'p', 'q', 'r', 's', 't', 'u', 'v', 'w', 'x', 'y',\n",
        "           'z', 'A', 'B', 'C', 'D', 'E', 'F', 'G', 'H', 'I', 'J', 'K', 'L', 'M', 'N', 'O', 'P', 'Q', 'R', 'S', 'T', 'U', 'V', 'W', 'X', 'Y', 'Z']\n",
        "numbers = ['0', '1', '2', '3', '4', '5', '6', '7', '8', '9']\n",
        "symbols = ['!', '#', '$', '%', '&', '(', ')', '*', '+']\n",
        "\n",
        "# Rewrite password program with function password that\n",
        "# takes the int num_letter, num_number, and num_symbol as three parameters,\n",
        "# return ONE, not 10 random password that satisfy the requirement.\n",
        "\n",
        "def password(num_letters, num_numbers, num_symbols):\n",
        "  # condition password_list\n",
        "  password_list = []\n",
        "\n",
        "  # for loop for num_letters condition\n",
        "  for n in range(num_letters):\n",
        "    password_list.append(random.choice(letters))\n",
        "\n",
        "  # for loop for num_numbers condition\n",
        "  for n in range(num_numbers):\n",
        "    password_list.append(random.choice(numbers))\n",
        "\n",
        "  # for loop for num_symbols condition\n",
        "  for n in range(num_symbols):\n",
        "    password_list.append(random.choice(symbols))\n",
        "\n",
        "  random.shuffle(password_list)\n",
        "\n",
        "  # change password_list to string\n",
        "  password_str = \"\".join(password_list)\n",
        "  return password_str\n",
        "\n",
        "for n in range(10):\n",
        "  num_letters = random.randint(3,6)\n",
        "  num_numbers = random.randint(1,4)\n",
        "  num_symbols = 10 - num_letters - num_numbers\n",
        "\n",
        "  sample_password = password(num_letters, num_numbers, num_symbols)\n",
        "\n",
        "  # sample_password is generated\n",
        "  print(f'This password has {num_letters} letters, {num_numbers} numbers, and {num_symbols} symbols: {sample_password}')\n"
      ]
    }
  ]
}