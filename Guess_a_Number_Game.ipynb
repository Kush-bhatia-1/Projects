{
  "nbformat": 4,
  "nbformat_minor": 0,
  "metadata": {
    "colab": {
      "provenance": []
    },
    "kernelspec": {
      "name": "python3",
      "display_name": "Python 3"
    },
    "language_info": {
      "name": "python"
    }
  },
  "cells": [
    {
      "cell_type": "code",
      "source": [
        "# Modification 1: Read and write last user results\n",
        "import random\n",
        "import json\n",
        "import os\n",
        "\n",
        "# Specify the file name\n",
        "info_file_json = 'best_score.json'\n",
        "\n",
        "# Define a function to load the best score from a JSON file or manually initialize best_score file as requested for assignment. Googled how to do this\n",
        "def load_best_score():\n",
        "    if os.path.exists(info_file_json):\n",
        "        with open(info_file_json, \"r\") as file:\n",
        "            best_score = json.load(file)\n",
        "    else:\n",
        "        best_score = {\"user_name\": \"\", \"num_guesses\": float('inf')}\n",
        "    return best_score\n",
        "\n",
        "# Define a function to save the best score to a JSON file\n",
        "def save_best_score(best_score):\n",
        "    with open(info_file_json, \"w\") as file:\n",
        "        json.dump(best_score, file)\n",
        "\n",
        "# Load the best score\n",
        "best_score = load_best_score()\n",
        "\n",
        "# Generate a random number\n",
        "target = random.randint(1, 100)\n",
        "print(\"I'm thinking of a number between 1 and 100. Can you guess what it is?\")\n",
        "\n",
        "# Ask the user for their name\n",
        "user_name = input(\"Please enter your full name: \")\n",
        "\n",
        "# Initialize a count\n",
        "num_guess = 0\n",
        "\n",
        "# User guess the number\n",
        "while True:\n",
        "    # Getting user guess\n",
        "    user_guess = int(input(\"Enter your guess: \"))\n",
        "    num_guess = num_guess + 1\n",
        "\n",
        "    # Compare the guess to the number.\n",
        "    if user_guess == target:\n",
        "        print(f\"Congratulations! You got it right in {num_guess} guesses!\")\n",
        "\n",
        "        # Check if current score is better or equal to the best score we already have\n",
        "        if num_guess <= best_score[\"num_guesses\"]:\n",
        "            best_score[\"user_name\"] = user_name\n",
        "            best_score[\"num_guesses\"] = num_guess\n",
        "            save_best_score(best_score)\n",
        "            print(f\"You've achieved a new best score of {num_guess} guesses!\")\n",
        "\n",
        "        # Print the last score, the best historical score, and user\n",
        "        print(f\"Last Score: {num_guess} guesses by {user_name}\")\n",
        "        print(f\"Best Historical Score: {best_score['num_guesses']} guesses by {best_score['user_name']}\")\n",
        "\n",
        "        # Break out of the loop after displaying scores\n",
        "        break\n",
        "\n",
        "    elif user_guess < target:\n",
        "        print(\"Your guess is too low. Try again.\")\n",
        "    else:\n",
        "        print(\"Your guess is too high. Try again.\")"
      ],
      "metadata": {
        "colab": {
          "base_uri": "https://localhost:8080/"
        },
        "id": "SsRHWy5ncVfG",
        "outputId": "196b976b-c5b6-49ed-9f9e-bfc8abc7482b"
      },
      "execution_count": null,
      "outputs": [
        {
          "output_type": "stream",
          "name": "stdout",
          "text": [
            "I'm thinking of a number between 1 and 100. Can you guess what it is?\n",
            "Please enter your full name: Steven\n",
            "Enter your guess: 60\n",
            "Your guess is too high. Try again.\n",
            "Enter your guess: 50\n",
            "Your guess is too high. Try again.\n",
            "Enter your guess: 30\n",
            "Your guess is too low. Try again.\n",
            "Enter your guess: 40\n",
            "Your guess is too high. Try again.\n",
            "Enter your guess: 35\n",
            "Your guess is too high. Try again.\n",
            "Enter your guess: 33\n",
            "Congratulations! You got it right in 6 guesses!\n",
            "Last Score: 6 guesses by Steven\n",
            "Best Historical Score: 4 guesses by Jack\n"
          ]
        }
      ]
    }
  ]
}