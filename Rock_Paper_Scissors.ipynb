{
  "nbformat": 4,
  "nbformat_minor": 0,
  "metadata": {
    "colab": {
      "provenance": []
    },
    "kernelspec": {
      "name": "python3",
      "display_name": "Python 3"
    },
    "language_info": {
      "name": "python"
    }
  },
  "cells": [
    {
      "cell_type": "markdown",
      "source": [
        "Part 1 - Errors"
      ],
      "metadata": {
        "id": "jftmuJnaLjWQ"
      }
    },
    {
      "cell_type": "code",
      "source": [
        "# Syntax Error\n",
        "# Syntax Error most often happen due to to invalid characters or missing characters\n",
        "name = “ISOM 352”\n",
        "print(“hello name”)"
      ],
      "metadata": {
        "colab": {
          "base_uri": "https://localhost:8080/",
          "height": 142
        },
        "id": "CHGCUg6QLr34",
        "outputId": "524bf879-9268-4866-e006-c2279f19eb2d"
      },
      "execution_count": null,
      "outputs": [
        {
          "output_type": "error",
          "ename": "SyntaxError",
          "evalue": "ignored",
          "traceback": [
            "\u001b[0;36m  File \u001b[0;32m\"<ipython-input-1-94d0c1db926c>\"\u001b[0;36m, line \u001b[0;32m2\u001b[0m\n\u001b[0;31m    name = “ISOM 352”\u001b[0m\n\u001b[0m           ^\u001b[0m\n\u001b[0;31mSyntaxError\u001b[0m\u001b[0;31m:\u001b[0m invalid character '“' (U+201C)\n"
          ]
        }
      ]
    },
    {
      "cell_type": "code",
      "source": [
        "# Type Error\n",
        "# Type erros occur when an operation is done incorrectly on an object\n",
        "answer = '9' + 3"
      ],
      "metadata": {
        "colab": {
          "base_uri": "https://localhost:8080/",
          "height": 194
        },
        "id": "O_beMmLHL2SB",
        "outputId": "80b0be1e-b367-43ad-91bb-5e03897d2542"
      },
      "execution_count": null,
      "outputs": [
        {
          "output_type": "error",
          "ename": "TypeError",
          "evalue": "ignored",
          "traceback": [
            "\u001b[0;31m---------------------------------------------------------------------------\u001b[0m",
            "\u001b[0;31mTypeError\u001b[0m                                 Traceback (most recent call last)",
            "\u001b[0;32m<ipython-input-8-e216faaa13b0>\u001b[0m in \u001b[0;36m<cell line: 2>\u001b[0;34m()\u001b[0m\n\u001b[1;32m      1\u001b[0m \u001b[0;31m# Type Error\u001b[0m\u001b[0;34m\u001b[0m\u001b[0;34m\u001b[0m\u001b[0m\n\u001b[0;32m----> 2\u001b[0;31m \u001b[0manswer\u001b[0m \u001b[0;34m=\u001b[0m \u001b[0;34m'9'\u001b[0m \u001b[0;34m+\u001b[0m \u001b[0;36m3\u001b[0m\u001b[0;34m\u001b[0m\u001b[0;34m\u001b[0m\u001b[0m\n\u001b[0m",
            "\u001b[0;31mTypeError\u001b[0m: can only concatenate str (not \"int\") to str"
          ]
        }
      ]
    },
    {
      "cell_type": "code",
      "source": [
        "# Name Error\n",
        "# Name errors occur when a you run a program and the code can't acesss variable that hasn't been defined or has a value\n",
        "answer = one + 5"
      ],
      "metadata": {
        "colab": {
          "base_uri": "https://localhost:8080/",
          "height": 211
        },
        "id": "lZj6P2c6MsIN",
        "outputId": "690ede08-7061-4ed6-fab6-9e3d8e0723e4"
      },
      "execution_count": null,
      "outputs": [
        {
          "output_type": "error",
          "ename": "NameError",
          "evalue": "ignored",
          "traceback": [
            "\u001b[0;31m---------------------------------------------------------------------------\u001b[0m",
            "\u001b[0;31mNameError\u001b[0m                                 Traceback (most recent call last)",
            "\u001b[0;32m<ipython-input-9-ce3404408ec6>\u001b[0m in \u001b[0;36m<cell line: 3>\u001b[0;34m()\u001b[0m\n\u001b[1;32m      1\u001b[0m \u001b[0;31m# Name Error\u001b[0m\u001b[0;34m\u001b[0m\u001b[0;34m\u001b[0m\u001b[0m\n\u001b[1;32m      2\u001b[0m \u001b[0;34m\u001b[0m\u001b[0m\n\u001b[0;32m----> 3\u001b[0;31m \u001b[0manswer\u001b[0m \u001b[0;34m=\u001b[0m \u001b[0mone\u001b[0m \u001b[0;34m+\u001b[0m \u001b[0;36m5\u001b[0m\u001b[0;34m\u001b[0m\u001b[0;34m\u001b[0m\u001b[0m\n\u001b[0m",
            "\u001b[0;31mNameError\u001b[0m: name 'one' is not defined"
          ]
        }
      ]
    },
    {
      "cell_type": "code",
      "source": [
        "# FileNotFoundError\n",
        "# FileNotFoundError is essentially when a file does not exist in that library\n",
        "with open('test_file.txt', 'r') as file:\n",
        "    data = file.read()\n",
        "\n"
      ],
      "metadata": {
        "colab": {
          "base_uri": "https://localhost:8080/",
          "height": 246
        },
        "id": "9KHviVitP80K",
        "outputId": "02d774b4-fe2e-4d10-8ee6-16c68edd3bd3"
      },
      "execution_count": null,
      "outputs": [
        {
          "output_type": "error",
          "ename": "FileNotFoundError",
          "evalue": "ignored",
          "traceback": [
            "\u001b[0;31m---------------------------------------------------------------------------\u001b[0m",
            "\u001b[0;31mFileNotFoundError\u001b[0m                         Traceback (most recent call last)",
            "\u001b[0;32m<ipython-input-15-8b724337f972>\u001b[0m in \u001b[0;36m<cell line: 3>\u001b[0;34m()\u001b[0m\n\u001b[1;32m      1\u001b[0m \u001b[0;31m# FileNotFoundError\u001b[0m\u001b[0;34m\u001b[0m\u001b[0;34m\u001b[0m\u001b[0m\n\u001b[1;32m      2\u001b[0m \u001b[0;31m#\u001b[0m\u001b[0;34m\u001b[0m\u001b[0;34m\u001b[0m\u001b[0m\n\u001b[0;32m----> 3\u001b[0;31m \u001b[0;32mwith\u001b[0m \u001b[0mopen\u001b[0m\u001b[0;34m(\u001b[0m\u001b[0;34m'test_file.txt'\u001b[0m\u001b[0;34m,\u001b[0m \u001b[0;34m'r'\u001b[0m\u001b[0;34m)\u001b[0m \u001b[0;32mas\u001b[0m \u001b[0mfile\u001b[0m\u001b[0;34m:\u001b[0m\u001b[0;34m\u001b[0m\u001b[0;34m\u001b[0m\u001b[0m\n\u001b[0m\u001b[1;32m      4\u001b[0m     \u001b[0mdata\u001b[0m \u001b[0;34m=\u001b[0m \u001b[0mfile\u001b[0m\u001b[0;34m.\u001b[0m\u001b[0mread\u001b[0m\u001b[0;34m(\u001b[0m\u001b[0;34m)\u001b[0m\u001b[0;34m\u001b[0m\u001b[0;34m\u001b[0m\u001b[0m\n\u001b[1;32m      5\u001b[0m \u001b[0;34m\u001b[0m\u001b[0m\n",
            "\u001b[0;31mFileNotFoundError\u001b[0m: [Errno 2] No such file or directory: 'test_file.txt'"
          ]
        }
      ]
    },
    {
      "cell_type": "markdown",
      "source": [
        "Part 2"
      ],
      "metadata": {
        "id": "rXHEyo5izqOa"
      }
    },
    {
      "cell_type": "code",
      "execution_count": null,
      "metadata": {
        "id": "Qf01rwW-VcYy",
        "colab": {
          "base_uri": "https://localhost:8080/"
        },
        "outputId": "3891af04-0b6a-493f-b611-ac4381f9fd27"
      },
      "outputs": [
        {
          "output_type": "stream",
          "name": "stdout",
          "text": [
            "Welcome! Here is the Rock, Paper, Scissors game!\n",
            "Enter your name: Kush\n",
            "Please enter R, P, or S for Rock, Paper, and Scissors (or 'q' to quit): R\n",
            "You lose.\n",
            "Game Statistics:\n",
            "User name: Kush\n",
            "Total games played: 1\n",
            "Total wins: 0\n",
            "Total draws: 0\n",
            "Total losses: 1\n",
            "Please enter R, P, or S for Rock, Paper, and Scissors (or 'q' to quit): P\n",
            "It's a tie.\n",
            "Game Statistics:\n",
            "User name: Kush\n",
            "Total games played: 2\n",
            "Total wins: 0\n",
            "Total draws: 1\n",
            "Total losses: 1\n",
            "Please enter R, P, or S for Rock, Paper, and Scissors (or 'q' to quit): S\n",
            "It's a tie.\n",
            "Game Statistics:\n",
            "User name: Kush\n",
            "Total games played: 3\n",
            "Total wins: 0\n",
            "Total draws: 2\n",
            "Total losses: 1\n",
            "Please enter R, P, or S for Rock, Paper, and Scissors (or 'q' to quit): R\n",
            "It's a tie.\n",
            "Game Statistics:\n",
            "User name: Kush\n",
            "Total games played: 4\n",
            "Total wins: 0\n",
            "Total draws: 3\n",
            "Total losses: 1\n",
            "Please enter R, P, or S for Rock, Paper, and Scissors (or 'q' to quit): R\n",
            "You lose.\n",
            "Game Statistics:\n",
            "User name: Kush\n",
            "Total games played: 5\n",
            "Total wins: 0\n",
            "Total draws: 3\n",
            "Total losses: 2\n",
            "Please enter R, P, or S for Rock, Paper, and Scissors (or 'q' to quit): P\n",
            "You lose.\n",
            "Game Statistics:\n",
            "User name: Kush\n",
            "Total games played: 6\n",
            "Total wins: 0\n",
            "Total draws: 3\n",
            "Total losses: 3\n",
            "Please enter R, P, or S for Rock, Paper, and Scissors (or 'q' to quit): Q\n",
            "The game is over.\n",
            "Game Statistics:\n",
            "User name: Kush\n",
            "Total games played: 6\n",
            "Total wins: 0\n",
            "Total draws: 3\n",
            "Total losses: 3\n"
          ]
        }
      ],
      "source": [
        "import random\n",
        "import json\n",
        "\n",
        "# Validate the user_name by using this list of letters\n",
        "letters = ['a', 'b', 'c', 'd', 'e', 'f', 'g', 'h', 'i', 'j', 'k', 'l', 'm', 'n', 'o', 'p', 'q', 'r', 's', 't', 'u', 'v', 'w', 'x', 'y',\n",
        "           'z', 'A', 'B', 'C', 'D', 'E', 'F', 'G', 'H', 'I', 'J', 'K', 'L', 'M', 'N', 'O', 'P', 'Q', 'R', 'S', 'T', 'U', 'V', 'W', 'X', 'Y', 'Z']\n",
        "\n",
        "# Specify the file name\n",
        "file_json = \"rps_game.json\"\n",
        "\n",
        "# try to open file\n",
        "try:\n",
        "  # Read the data from file\n",
        "  with open(file_json) as file:\n",
        "      # Load the data into a list called data\n",
        "      data = json.load(file)\n",
        "# catch the exception of FileNotFoundError\n",
        "except FileNotFoundError:\n",
        "  print(\"Welcome! Here is the Rock, Paper, Scissors game!\")\n",
        "  data = {\n",
        "      \"user_name\": \"nobody\",\n",
        "      \"total_games\": 0,\n",
        "      \"total_wins\": 0,\n",
        "      \"total_draws\": 0,\n",
        "      \"total_losses\": 0,\n",
        "  }\n",
        "else:\n",
        "  print(f\"The previous user was {data['user_name']}\")\n",
        "  print(f\"The total games was {data['total_games']}\")\n",
        "  print(f\"The total wins were {data['total_wins']}.\")\n",
        "  print(f\"The total losses were {data['total_losses']}.\")\n",
        "  print(f\"The total draws were {data['total_draws']}.\")\n",
        "\n",
        "#Set statistics back to 0\n",
        "data[\"total_games\"] = 0\n",
        "data[\"total_wins\"] = 0\n",
        "data[\"total_losses\"] = 0\n",
        "data[\"total_draws\"] = 0\n",
        "\n",
        "# ask user for name\n",
        "data[\"user_name\"] = input(\"Enter your name: \")\n",
        "\n",
        "for specific_letter in data [\"user_name\"]:\n",
        "  if specific_letter not in letters:\n",
        "    data[\"user_name\"] = input(\"The name you entered is invalid. Please enter a name with characters only letters: \")\n",
        "\n",
        "# Create the list for the data the computer will choose, which can be alphabetical (R, P, S)\n",
        "rps_list = ['R', 'P', 'S']\n",
        "\n",
        "# Devloping the main game loop\n",
        "while True:\n",
        "  # Prompt the user to enter for R, P, S\n",
        "  user_choice = input(\"Please enter R, P, or S for Rock, Paper, and Scissors (or 'q' to quit): \").upper()\n",
        "  # Validate user input and prompt for re-entry if invalid\n",
        "  while True:\n",
        "    if user_choice == 'R' or user_choice == 'P' or user_choice == 'S':\n",
        "      break\n",
        "    if user_choice == 'Q':\n",
        "      break\n",
        "    else:\n",
        "      user_choice = input(\"Your input was invalid. Please enter R, P, or S: \"). upper()\n",
        "\n",
        "  # pick a random element from a list of strings.\n",
        "  computer_choice = random.choice(rps_list)\n",
        "\n",
        "  # Define a function called determine_winner(user_choice, computer_choice) to determine the winner and return the winner.\n",
        "  def determine_winner(user_choice, computer_choice):\n",
        "    # Determine round-specific results if user best computer. Result = You win\n",
        "    if (user_choice==\"R\" and computer_choice==\"S\") or (user_choice==\"S\" and computer_choice==\"P\") or (user_choice==\"P\" and computer_choice==\"R\"):\n",
        "      data[\"total_games\"] += 1\n",
        "      data[\"total_wins\"] += 1\n",
        "      return \"You win!\"\n",
        "    # Determine round-specific results if user and computer have same result. Result = Tie\n",
        "    elif user_choice == computer_choice:\n",
        "      data[\"total_games\"] += 1\n",
        "      data[\"total_draws\"] += 1\n",
        "      return \"It's a tie.\"\n",
        "    # Determine round-specific results if user descides to quit (q). Result = Game Over\n",
        "    elif user_choice == \"Q\":\n",
        "      return \"The game is over.\"\n",
        "    # Determine round-specific results if computer beats user. Result = You lost\n",
        "    else:\n",
        "      data[\"total_games\"] += 1\n",
        "      data[\"total_losses\"] += 1\n",
        "      return \"You lose.\"\n",
        "\n",
        "  # Determine the results of the round\n",
        "  results = determine_winner(user_choice, computer_choice)\n",
        "  print(results)\n",
        "\n",
        "  # Define a function called print_results(results)\n",
        "  def print_results(results):\n",
        "    print (f\"User name: {data['user_name']}\")\n",
        "    print (f\"Total games played: {data['total_games']}\")\n",
        "    print (f\"Total wins: {data['total_wins']}\")\n",
        "    print (f\"Total draws: {data['total_draws']}\")\n",
        "    print (f\"Total losses: {data['total_losses']}\")\n",
        "  print (\"Game Statistics:\")\n",
        "\n",
        "  # After each round, display the game summary statistics\n",
        "  print_results(results)\n",
        "\n",
        "  # End the while loop if user enters Q to quit the game\n",
        "  if user_choice==\"Q\":\n",
        "    break\n",
        "\n",
        "  # Save data back to file\n",
        "  # open the file_json in write mode, and call it `file`\n",
        "  with open(file_json, 'w') as file:\n",
        "    # Write the data into the file\n",
        "    json.dump(data, file)"
      ]
    }
  ]
}